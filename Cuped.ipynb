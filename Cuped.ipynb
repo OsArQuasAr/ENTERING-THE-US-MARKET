{
 "cells": [
  {
   "cell_type": "code",
   "execution_count": 1,
   "metadata": {
    "id": "0RCZPXfCqE0Z"
   },
   "outputs": [],
   "source": [
    "import numpy as np\n",
    "import pandas as pd\n",
    "import scipy.stats as sps\n",
    "from statsmodels.stats.proportion import proportion_confint\n",
    "#from tqdm.notebook import tqdm as tqdm_notebook\n",
    "from tqdm import tqdm as tqdm_notebook\n",
    "from collections import namedtuple\n",
    "import seaborn as sns\n",
    "import itertools\n",
    "sns.set(font_scale=1.5, palette='Set2')\n",
    "ExperimentComparisonResults = namedtuple('ExperimentComparisonResults',\n",
    "                                        ['pvalue', 'effect', 'ci_length', 'left_bound', 'right_bound', 'var'])"
   ]
  },
  {
   "cell_type": "code",
   "execution_count": 2,
   "metadata": {
    "id": "L7UAwRL3roCH"
   },
   "outputs": [],
   "source": [
    "#T-test: на вход принимает два массива для КГ и тестовой группы с метриками по пользователям\n",
    "def absolute_ttest(control, test):\n",
    "    mean_control = np.mean(control)\n",
    "    mean_test = np.mean(test)\n",
    "    var_mean_control  = np.var(control) / len(control)\n",
    "    var_mean_test  = np.var(test) / len(test)\n",
    "\n",
    "    var = (np.var(control) + np.var(test))/2.0\n",
    "\n",
    "    difference_mean = mean_test - mean_control\n",
    "    difference_mean_var = var_mean_control + var_mean_test\n",
    "    difference_distribution = sps.norm(loc=difference_mean, scale=np.sqrt(difference_mean_var))\n",
    "\n",
    "    left_bound, right_bound = difference_distribution.ppf([0.025, 0.975])\n",
    "    ci_length = (right_bound - left_bound)\n",
    "    pvalue = 2 * min(difference_distribution.cdf(0), difference_distribution.sf(0))\n",
    "    effect = difference_mean\n",
    "\n",
    "    return ExperimentComparisonResults(pvalue, effect, ci_length, left_bound, right_bound, var)\n",
    "\n",
    "#T-test с CUPED преобразоваием: также добавляем массивы для ковариат по пользователям\n",
    "def cuped_ttest(control, test, control_before, test_before):\n",
    "    theta = (np.cov(control, control_before)[0, 1] + np.cov(test, test_before)[0, 1]) /\\\n",
    "                (np.var(control_before) + np.var(test_before))\n",
    "\n",
    "    control_cup = control - theta * control_before\n",
    "    test_cup = test - theta * test_before\n",
    "    return absolute_ttest(control_cup, test_cup)"
   ]
  },
  {
   "cell_type": "code",
   "execution_count": 3,
   "metadata": {
    "id": "S5ITLHi-rrqa"
   },
   "outputs": [],
   "source": [
    "# Создаем выборки для КГ и тестовой группы\n",
    "control_before = sps.expon(scale=1000).rvs(3880) + sps.norm(loc=0, scale=1000).rvs(3880)\n",
    "control_before[control_before < 0] = 0\n",
    "control = control_before + sps.norm(loc=0, scale=1000).rvs(3880)\n",
    "control[control < 0] = 0\n",
    "\n",
    "test_before = sps.expon(scale=1000).rvs(3880) + sps.norm(loc=0, scale=1000).rvs(3880)\n",
    "test_before[test_before < 0] = 0\n",
    "test = test_before + sps.norm(loc=0, scale=1000).rvs(3880)\n",
    "test[test < 0] = 0\n",
    "test *= 1.07 # Истинный рост в тестовой группе"
   ]
  },
  {
   "cell_type": "code",
   "execution_count": 4,
   "metadata": {
    "colab": {
     "base_uri": "https://localhost:8080/"
    },
    "id": "yJNHSLZ4ruQ7",
    "outputId": "bb401dc7-2fe4-4e48-8f03-13c61249ed5d"
   },
   "outputs": [
    {
     "data": {
      "text/plain": [
       "0.7984324631679355"
      ]
     },
     "execution_count": 4,
     "metadata": {},
     "output_type": "execute_result"
    }
   ],
   "source": [
    "np.corrcoef(control + test, control_before + test_before)[0,1]"
   ]
  },
  {
   "cell_type": "code",
   "execution_count": 5,
   "metadata": {
    "colab": {
     "base_uri": "https://localhost:8080/"
    },
    "id": "unJy6Z0qrxrN",
    "outputId": "21982a33-b457-428b-a17c-ada04795fcf0"
   },
   "outputs": [
    {
     "data": {
      "text/plain": [
       "ExperimentComparisonResults(pvalue=2.4655107340847505e-09, effect=116.12326891707107, ci_length=76.32726617335288, left_bound=77.95963583039463, right_bound=154.2869020037475, var=735537.7577146343)"
      ]
     },
     "execution_count": 5,
     "metadata": {},
     "output_type": "execute_result"
    }
   ],
   "source": [
    "cuped_ttest(control, test, control_before, test_before)"
   ]
  },
  {
   "cell_type": "markdown",
   "metadata": {
    "id": "n58jwK3YuSYn"
   },
   "source": [
    "**Проверка методики на симуляции тестов**"
   ]
  },
  {
   "cell_type": "code",
   "execution_count": 6,
   "metadata": {
    "id": "V12tZW7Xuhp9"
   },
   "outputs": [],
   "source": [
    "#T-test с некорректным CUPED - увеличивает ошибки первого рода. Часто данная метрика упоминается в статьях\n",
    "def cuped_ttest_wrong(control, test, control_before, test_before):\n",
    "    theta = (np.cov(control, control_before)[0, 1] + np.cov(test, test_before)[0, 1]) /\\\n",
    "                (np.var(control_before) + np.var(test_before))\n",
    "\n",
    "    control_cup = control - theta * (control_before - np.mean(control_before))\n",
    "    test_cup = test - theta * (test_before - np.mean(test_before))\n",
    "    return absolute_ttest(control_cup, test_cup)"
   ]
  },
  {
   "cell_type": "code",
   "execution_count": 7,
   "metadata": {
    "colab": {
     "base_uri": "https://localhost:8080/",
     "height": 49,
     "referenced_widgets": [
      "99e7761b5a2245c38c25d47dc1fab0ff",
      "7977fa0c8ea74265bdaf4e679d84e82f",
      "bf8d8c00a27944cb996270654b0b232d",
      "a01b49e8181c45ae92ef5cac97a649fc",
      "30eff25c10d742ca9a7afd81d8a01909",
      "6c484b68849048809206407a164e6bcc",
      "f38b5051b79543b4bb0516662de12a79",
      "d207bc5b3bf947708910826157752eb4",
      "2c195f821db04ada8e93992aec15ab3d",
      "0bff40c112a346d687e1b38657328fd8",
      "72c1b35d8a054ad3b214b6128e6f4518"
     ]
    },
    "id": "Ek8NWNTYuh-f",
    "outputId": "c3b90634-a0ae-4296-ec81-ab9bf02dc9ba"
   },
   "outputs": [
    {
     "name": "stderr",
     "output_type": "stream",
     "text": [
      "100%|██████████| 10000/10000 [02:39<00:00, 62.52it/s]\n"
     ]
    }
   ],
   "source": [
    "# Сохраняем данные экспериментов\n",
    "bad_cnt_list_1 = []\n",
    "bad_cnt_list_2 = []\n",
    "bad_cnt_list_3 = []\n",
    "\n",
    "effect_list_1 = []\n",
    "effect_list_2 = []\n",
    "effect_list_3 = []\n",
    "\n",
    "ci_length_list_1 = []\n",
    "ci_length_list_2 = []\n",
    "ci_length_list_3 = []\n",
    "\n",
    "var_list_1 = []\n",
    "var_list_2 = []\n",
    "var_list_3 = []\n",
    "\n",
    "corr_coef_list = []\n",
    "\n",
    "# Цикл проверки\n",
    "N = 10000\n",
    "for i in tqdm_notebook(range(N)):\n",
    "    # Тестирую A/A-тест\n",
    "    control_before = sps.expon(scale=1000).rvs(3880) + sps.norm(loc=0, scale=1000).rvs(3880)\n",
    "    control_before[control_before < 0] = 0\n",
    "    control = control_before + sps.norm(loc=0, scale=1500).rvs(3880)\n",
    "    control[control < 0] = 0\n",
    "\n",
    "    test_before = sps.expon(scale=1000).rvs(3880) + sps.norm(loc=0, scale=1000).rvs(3880)\n",
    "    test_before[test_before < 0] = 0\n",
    "    test = test_before + sps.norm(loc=0, scale=1500).rvs(3880)\n",
    "    test[test < 0] = 0\n",
    "\n",
    "    test *= 1.07 # Истинный рост в тестовой группе\n",
    "\n",
    "    corr_coef_list.append(np.corrcoef(control + test, control_before + test_before)[0,1])\n",
    "\n",
    "    # Запускаю критерий\n",
    "    p_value_1, effect_1, ci_length_1, _, _, var_1 = cuped_ttest(control, test, control_before, test_before)\n",
    "    p_value_2, effect_2, ci_length_2, _, _, var_2 = absolute_ttest(control, test)\n",
    "    p_value_3, effect_3, ci_length_3, _, _, var_3 = cuped_ttest_wrong(control, test, control_before, test_before)\n",
    "\n",
    "    # Смотрю результаты\n",
    "    if p_value_1 < 0.05:\n",
    "        bad_cnt_list_1.append(1)\n",
    "    else: bad_cnt_list_1.append(0)\n",
    "\n",
    "    if p_value_2 < 0.05:\n",
    "        bad_cnt_list_2.append(1)\n",
    "    else: bad_cnt_list_2.append(0)\n",
    "\n",
    "    if p_value_3 < 0.05:\n",
    "        bad_cnt_list_3.append(1)\n",
    "    else: bad_cnt_list_3.append(0)\n",
    "\n",
    "    effect_list_1.append(effect_1)\n",
    "    effect_list_2.append(effect_2)\n",
    "    effect_list_3.append(effect_3)\n",
    "\n",
    "    ci_length_list_1.append(ci_length_1)\n",
    "    ci_length_list_2.append(ci_length_2)\n",
    "    ci_length_list_3.append(ci_length_3)\n",
    "\n",
    "    var_list_1.append(var_1)\n",
    "    var_list_2.append(var_2)\n",
    "    var_list_3.append(var_3)"
   ]
  },
  {
   "cell_type": "code",
   "execution_count": 8,
   "metadata": {
    "colab": {
     "base_uri": "https://localhost:8080/"
    },
    "id": "GyfBtHEEEYQ8",
    "outputId": "003adcac-5002-490c-e209-c3f60e374abe"
   },
   "outputs": [
    {
     "name": "stdout",
     "output_type": "stream",
     "text": [
      "Доля отклонений нулевой гипотезы: 0.798; CI:[0.79, 0.8058]\n",
      "Доля отклонений нулевой гипотезы Cuped: 0.9598; CI:[0.9558, 0.9635]\n",
      "Доля отклонений нулевой гипотезы Cuped_wrong: 0.9045; доверительный интервал: [0.8986, 0.9101]\n",
      "\n",
      "Средняя длина доверительного интервала: 143.3883\n",
      "Средняя длина доверительного интервала cuped: 108.3987\n",
      "Средняя длина доверительного интервала Cuped_wrong: 108.3987\n",
      "\n",
      "Средний эффект: 102.309\n",
      "Средний эффект Cuped: 102.3959\n",
      "Средний эффект Cuped_wrong: 102.309\n",
      "\n",
      "Средняя дисперсия: 2596113.6468\n",
      "Средняя дисперсия Cuped: 1483641.3297\n",
      "Средняя дисперсия Cuped_wrong: 1483641.3297\n",
      "\n",
      "Корреляция: 0.6543\n"
     ]
    }
   ],
   "source": [
    "# Строю доверительный интервал для доли ошибок у критерия.\n",
    "left_real_level, right_real_level = proportion_confint(count = sum(bad_cnt_list_2), nobs = N, alpha=0.05, method='wilson')\n",
    "print(f\"Доля отклонений нулевой гипотезы: {round(sum(bad_cnt_list_2) / N, 4)};\"\n",
    "      f\" CI:[{round(left_real_level, 4)}, {round(right_real_level, 4)}]\")\n",
    "\n",
    "left_real_level, right_real_level = proportion_confint(count = sum(bad_cnt_list_1), nobs = N, alpha=0.05, method='wilson')\n",
    "print(f\"Доля отклонений нулевой гипотезы Cuped: {round(sum(bad_cnt_list_1) / N, 4)};\"\n",
    "      f\" CI:[{round(left_real_level, 4)}, {round(right_real_level, 4)}]\")\n",
    "left_real_level, right_real_level = proportion_confint(count = sum(bad_cnt_list_3), nobs = N, alpha=0.05, method='wilson')\n",
    "\n",
    "print(f\"Доля отклонений нулевой гипотезы Cuped_wrong: {round(sum(bad_cnt_list_3) / N, 4)};\"\n",
    "      f\" доверительный интервал: [{round(left_real_level, 4)}, {round(right_real_level, 4)}]\\n\")\n",
    "\n",
    "print(f\"Средняя длина доверительного интервала: {round(sum(ci_length_list_2) / N, 4)}\")\n",
    "print(f\"Средняя длина доверительного интервала cuped: {round(sum(ci_length_list_1) / N, 4)}\")\n",
    "print(f\"Средняя длина доверительного интервала Cuped_wrong: {round(sum(ci_length_list_3) / N, 4)}\\n\")\n",
    "\n",
    "print(f\"Средний эффект: {round(sum(effect_list_2) / N, 4)}\")\n",
    "print(f\"Средний эффект Cuped: {round(sum(effect_list_1) / N, 4)}\")\n",
    "print(f\"Средний эффект Cuped_wrong: {round(sum(effect_list_3) / N, 4)}\\n\")\n",
    "\n",
    "print(f\"Средняя дисперсия: {round(sum(var_list_2) / N, 4)}\")\n",
    "print(f\"Средняя дисперсия Cuped: {round(sum(var_list_1) / N, 4)}\")\n",
    "print(f\"Средняя дисперсия Cuped_wrong: {round(sum(var_list_3) / N, 4)}\\n\")\n",
    "\n",
    "\n",
    "print(f\"Корреляция: {round(sum(corr_coef_list) /N, 4)}\")"
   ]
  },
  {
   "cell_type": "code",
   "execution_count": null,
   "metadata": {
    "id": "qnOhXZ66FAHO"
   },
   "outputs": [],
   "source": []
  }
 ],
 "metadata": {
  "colab": {
   "provenance": []
  },
  "kernelspec": {
   "display_name": "Python 3 (ipykernel)",
   "language": "python",
   "name": "python3"
  },
  "language_info": {
   "codemirror_mode": {
    "name": "ipython",
    "version": 3
   },
   "file_extension": ".py",
   "mimetype": "text/x-python",
   "name": "python",
   "nbconvert_exporter": "python",
   "pygments_lexer": "ipython3",
   "version": "3.11.4"
  },
  "widgets": {
   "application/vnd.jupyter.widget-state+json": {
    "0bff40c112a346d687e1b38657328fd8": {
     "model_module": "@jupyter-widgets/base",
     "model_module_version": "1.2.0",
     "model_name": "LayoutModel",
     "state": {
      "_model_module": "@jupyter-widgets/base",
      "_model_module_version": "1.2.0",
      "_model_name": "LayoutModel",
      "_view_count": null,
      "_view_module": "@jupyter-widgets/base",
      "_view_module_version": "1.2.0",
      "_view_name": "LayoutView",
      "align_content": null,
      "align_items": null,
      "align_self": null,
      "border": null,
      "bottom": null,
      "display": null,
      "flex": null,
      "flex_flow": null,
      "grid_area": null,
      "grid_auto_columns": null,
      "grid_auto_flow": null,
      "grid_auto_rows": null,
      "grid_column": null,
      "grid_gap": null,
      "grid_row": null,
      "grid_template_areas": null,
      "grid_template_columns": null,
      "grid_template_rows": null,
      "height": null,
      "justify_content": null,
      "justify_items": null,
      "left": null,
      "margin": null,
      "max_height": null,
      "max_width": null,
      "min_height": null,
      "min_width": null,
      "object_fit": null,
      "object_position": null,
      "order": null,
      "overflow": null,
      "overflow_x": null,
      "overflow_y": null,
      "padding": null,
      "right": null,
      "top": null,
      "visibility": null,
      "width": null
     }
    },
    "2c195f821db04ada8e93992aec15ab3d": {
     "model_module": "@jupyter-widgets/controls",
     "model_module_version": "1.5.0",
     "model_name": "ProgressStyleModel",
     "state": {
      "_model_module": "@jupyter-widgets/controls",
      "_model_module_version": "1.5.0",
      "_model_name": "ProgressStyleModel",
      "_view_count": null,
      "_view_module": "@jupyter-widgets/base",
      "_view_module_version": "1.2.0",
      "_view_name": "StyleView",
      "bar_color": null,
      "description_width": ""
     }
    },
    "30eff25c10d742ca9a7afd81d8a01909": {
     "model_module": "@jupyter-widgets/base",
     "model_module_version": "1.2.0",
     "model_name": "LayoutModel",
     "state": {
      "_model_module": "@jupyter-widgets/base",
      "_model_module_version": "1.2.0",
      "_model_name": "LayoutModel",
      "_view_count": null,
      "_view_module": "@jupyter-widgets/base",
      "_view_module_version": "1.2.0",
      "_view_name": "LayoutView",
      "align_content": null,
      "align_items": null,
      "align_self": null,
      "border": null,
      "bottom": null,
      "display": null,
      "flex": null,
      "flex_flow": null,
      "grid_area": null,
      "grid_auto_columns": null,
      "grid_auto_flow": null,
      "grid_auto_rows": null,
      "grid_column": null,
      "grid_gap": null,
      "grid_row": null,
      "grid_template_areas": null,
      "grid_template_columns": null,
      "grid_template_rows": null,
      "height": null,
      "justify_content": null,
      "justify_items": null,
      "left": null,
      "margin": null,
      "max_height": null,
      "max_width": null,
      "min_height": null,
      "min_width": null,
      "object_fit": null,
      "object_position": null,
      "order": null,
      "overflow": null,
      "overflow_x": null,
      "overflow_y": null,
      "padding": null,
      "right": null,
      "top": null,
      "visibility": null,
      "width": null
     }
    },
    "6c484b68849048809206407a164e6bcc": {
     "model_module": "@jupyter-widgets/base",
     "model_module_version": "1.2.0",
     "model_name": "LayoutModel",
     "state": {
      "_model_module": "@jupyter-widgets/base",
      "_model_module_version": "1.2.0",
      "_model_name": "LayoutModel",
      "_view_count": null,
      "_view_module": "@jupyter-widgets/base",
      "_view_module_version": "1.2.0",
      "_view_name": "LayoutView",
      "align_content": null,
      "align_items": null,
      "align_self": null,
      "border": null,
      "bottom": null,
      "display": null,
      "flex": null,
      "flex_flow": null,
      "grid_area": null,
      "grid_auto_columns": null,
      "grid_auto_flow": null,
      "grid_auto_rows": null,
      "grid_column": null,
      "grid_gap": null,
      "grid_row": null,
      "grid_template_areas": null,
      "grid_template_columns": null,
      "grid_template_rows": null,
      "height": null,
      "justify_content": null,
      "justify_items": null,
      "left": null,
      "margin": null,
      "max_height": null,
      "max_width": null,
      "min_height": null,
      "min_width": null,
      "object_fit": null,
      "object_position": null,
      "order": null,
      "overflow": null,
      "overflow_x": null,
      "overflow_y": null,
      "padding": null,
      "right": null,
      "top": null,
      "visibility": null,
      "width": null
     }
    },
    "72c1b35d8a054ad3b214b6128e6f4518": {
     "model_module": "@jupyter-widgets/controls",
     "model_module_version": "1.5.0",
     "model_name": "DescriptionStyleModel",
     "state": {
      "_model_module": "@jupyter-widgets/controls",
      "_model_module_version": "1.5.0",
      "_model_name": "DescriptionStyleModel",
      "_view_count": null,
      "_view_module": "@jupyter-widgets/base",
      "_view_module_version": "1.2.0",
      "_view_name": "StyleView",
      "description_width": ""
     }
    },
    "7977fa0c8ea74265bdaf4e679d84e82f": {
     "model_module": "@jupyter-widgets/controls",
     "model_module_version": "1.5.0",
     "model_name": "HTMLModel",
     "state": {
      "_dom_classes": [],
      "_model_module": "@jupyter-widgets/controls",
      "_model_module_version": "1.5.0",
      "_model_name": "HTMLModel",
      "_view_count": null,
      "_view_module": "@jupyter-widgets/controls",
      "_view_module_version": "1.5.0",
      "_view_name": "HTMLView",
      "description": "",
      "description_tooltip": null,
      "layout": "IPY_MODEL_6c484b68849048809206407a164e6bcc",
      "placeholder": "​",
      "style": "IPY_MODEL_f38b5051b79543b4bb0516662de12a79",
      "value": "100%"
     }
    },
    "99e7761b5a2245c38c25d47dc1fab0ff": {
     "model_module": "@jupyter-widgets/controls",
     "model_module_version": "1.5.0",
     "model_name": "HBoxModel",
     "state": {
      "_dom_classes": [],
      "_model_module": "@jupyter-widgets/controls",
      "_model_module_version": "1.5.0",
      "_model_name": "HBoxModel",
      "_view_count": null,
      "_view_module": "@jupyter-widgets/controls",
      "_view_module_version": "1.5.0",
      "_view_name": "HBoxView",
      "box_style": "",
      "children": [
       "IPY_MODEL_7977fa0c8ea74265bdaf4e679d84e82f",
       "IPY_MODEL_bf8d8c00a27944cb996270654b0b232d",
       "IPY_MODEL_a01b49e8181c45ae92ef5cac97a649fc"
      ],
      "layout": "IPY_MODEL_30eff25c10d742ca9a7afd81d8a01909"
     }
    },
    "a01b49e8181c45ae92ef5cac97a649fc": {
     "model_module": "@jupyter-widgets/controls",
     "model_module_version": "1.5.0",
     "model_name": "HTMLModel",
     "state": {
      "_dom_classes": [],
      "_model_module": "@jupyter-widgets/controls",
      "_model_module_version": "1.5.0",
      "_model_name": "HTMLModel",
      "_view_count": null,
      "_view_module": "@jupyter-widgets/controls",
      "_view_module_version": "1.5.0",
      "_view_name": "HTMLView",
      "description": "",
      "description_tooltip": null,
      "layout": "IPY_MODEL_0bff40c112a346d687e1b38657328fd8",
      "placeholder": "​",
      "style": "IPY_MODEL_72c1b35d8a054ad3b214b6128e6f4518",
      "value": " 10000/10000 [02:20&lt;00:00, 83.05it/s]"
     }
    },
    "bf8d8c00a27944cb996270654b0b232d": {
     "model_module": "@jupyter-widgets/controls",
     "model_module_version": "1.5.0",
     "model_name": "FloatProgressModel",
     "state": {
      "_dom_classes": [],
      "_model_module": "@jupyter-widgets/controls",
      "_model_module_version": "1.5.0",
      "_model_name": "FloatProgressModel",
      "_view_count": null,
      "_view_module": "@jupyter-widgets/controls",
      "_view_module_version": "1.5.0",
      "_view_name": "ProgressView",
      "bar_style": "success",
      "description": "",
      "description_tooltip": null,
      "layout": "IPY_MODEL_d207bc5b3bf947708910826157752eb4",
      "max": 10000,
      "min": 0,
      "orientation": "horizontal",
      "style": "IPY_MODEL_2c195f821db04ada8e93992aec15ab3d",
      "value": 10000
     }
    },
    "d207bc5b3bf947708910826157752eb4": {
     "model_module": "@jupyter-widgets/base",
     "model_module_version": "1.2.0",
     "model_name": "LayoutModel",
     "state": {
      "_model_module": "@jupyter-widgets/base",
      "_model_module_version": "1.2.0",
      "_model_name": "LayoutModel",
      "_view_count": null,
      "_view_module": "@jupyter-widgets/base",
      "_view_module_version": "1.2.0",
      "_view_name": "LayoutView",
      "align_content": null,
      "align_items": null,
      "align_self": null,
      "border": null,
      "bottom": null,
      "display": null,
      "flex": null,
      "flex_flow": null,
      "grid_area": null,
      "grid_auto_columns": null,
      "grid_auto_flow": null,
      "grid_auto_rows": null,
      "grid_column": null,
      "grid_gap": null,
      "grid_row": null,
      "grid_template_areas": null,
      "grid_template_columns": null,
      "grid_template_rows": null,
      "height": null,
      "justify_content": null,
      "justify_items": null,
      "left": null,
      "margin": null,
      "max_height": null,
      "max_width": null,
      "min_height": null,
      "min_width": null,
      "object_fit": null,
      "object_position": null,
      "order": null,
      "overflow": null,
      "overflow_x": null,
      "overflow_y": null,
      "padding": null,
      "right": null,
      "top": null,
      "visibility": null,
      "width": null
     }
    },
    "f38b5051b79543b4bb0516662de12a79": {
     "model_module": "@jupyter-widgets/controls",
     "model_module_version": "1.5.0",
     "model_name": "DescriptionStyleModel",
     "state": {
      "_model_module": "@jupyter-widgets/controls",
      "_model_module_version": "1.5.0",
      "_model_name": "DescriptionStyleModel",
      "_view_count": null,
      "_view_module": "@jupyter-widgets/base",
      "_view_module_version": "1.2.0",
      "_view_name": "StyleView",
      "description_width": ""
     }
    }
   }
  }
 },
 "nbformat": 4,
 "nbformat_minor": 1
}
