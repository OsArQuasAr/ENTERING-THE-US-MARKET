{
 "cells": [
  {
   "cell_type": "markdown",
   "id": "556a35a1",
   "metadata": {},
   "source": [
    "# Урок 6.1. Предиктивный анализ: задачи регрессии и классификации"
   ]
  },
  {
   "cell_type": "markdown",
   "id": "048b6cc3",
   "metadata": {},
   "source": [
    "Сначала мы описывали имеющиеся у нас данные, изучали особенности и закономерности. Затем мы научились на основе данных делать выводы о генеральной совокупности, из которой они были получены. **В этом уроке мы научимся делать прогнозы**, то есть использовать собранные данные и выявленные закономерности для предсказания будущих событий, трендов или результатов в генеральной совокупности."
   ]
  },
  {
   "cell_type": "markdown",
   "id": "b03173fe",
   "metadata": {},
   "source": [
    "Цель урока: Научиться делать прогнозы с помощью **линейной и логистической регрессий**."
   ]
  },
  {
   "cell_type": "markdown",
   "id": "7db61da8",
   "metadata": {},
   "source": [
    "Переменную, которую хотят оценить, называют **объясняемой, зависимой или целевой переменной**. А переменные, на основании которых хотят оценить целевую переменную, называют **объясняющими или независимыми**. В примере с квартирами зависимой переменной будет цена, а независимыми — площадь, число комнат, удаленность от метро и др."
   ]
  },
  {
   "cell_type": "markdown",
   "id": "560cc191",
   "metadata": {},
   "source": [
    "Важная задача аналитика правильно подобрать незаисимые переменные для построение модели и корректно интерпретировать полученные результаты.\n",
    "Например, если один параметр коррелирует с другим, то есть рост одного показателя сопровождается ростом другого и наоборот, кажется, что один из них непосредственно влияет на другой."
   ]
  },
  {
   "cell_type": "markdown",
   "id": "2cf78873",
   "metadata": {},
   "source": [
    "Если имеется большой набор данных, то не составит труда обнаружить сильную корреляцию между несколькими признаками. Поэтому важно критично относиться к собственным выводам. Чем больше данных высокого качества у нас есть, тем более точно мы можем проверять наши гипотезы и строить прогнозы."
   ]
  },
  {
   "cell_type": "markdown",
   "id": "0cf41706",
   "metadata": {},
   "source": [
    "При построении прогнозов выделяют две группы задач:\n",
    "- Задачи **регрессии**  \n",
    "В таких задачах основной целью является **прогноз некоторого числового значения** на основании имеющихся признаков. Например, оценка стоимости объекта, прогноз курса валюты, предсказание объема продаж или выручки.\n",
    "- Задачи **классификации**  \n",
    "В таких задачах основной целью является **прогноз некоторого качественного значения**, то есть необходимо отнести объект к определенному **классу или категории**. Например, классификация заемщика на «надежного» или «ненадежного», определение письма в спам, разделение изделий на «бракованные» или «качественные»."
   ]
  },
  {
   "cell_type": "markdown",
   "id": "b5651006",
   "metadata": {},
   "source": [
    "## Линейная регрессияv\n",
    "Задачи **предсказания некоторой числовой** метрики можно решать при помощи линейной регрессии."
   ]
  },
  {
   "cell_type": "markdown",
   "id": "4cd793bd",
   "metadata": {},
   "source": [
    "Линейная регрессия — самый простой вариант регрессии. Мы можем использовать линейную регрессию, если предполагаем, что между прогнозируемой величиной Y и переменными (характеристиками) X есть линейная зависимость. Другими словами, при изменении одного из параметров другой меняется по линейному закону. При этом каждая переменная имеет свой вес, который умножается на значение этой переменной и далее суммируется."
   ]
  },
  {
   "cell_type": "markdown",
   "id": "5f69881f",
   "metadata": {},
   "source": [
    "# библиотека scikit-learn, «‎sklearn»   (SciPy Toolkit)\n",
    "Она предоставляет множество инструментов и алгоритмов для задач классификации, регрессии и многих других задач машинного обучения и статистического анализа данных.  \n",
    "- Простота использования  \n",
    "Scikit-learn предоставляет простой и интуитивно понятный интерфейс для работы с алгоритмами машинного обучения. Это делает его идеальным выбором для начинающих и опытных аналитиков данных.\n",
    "- Большое сообщество и поддержка  \n",
    "Scikit-learn имеет активное сообщество пользователей и разработчиков, что означает, что можно легко найти помощь и ресурсы в Интернете, если у вас возникают вопросы или проблемы.\n",
    "- Богатый выбор алгоритмов  \n",
    "Библиотека содержит множество алгоритмов машинного обучения и методов анализа данных, позволяя выбирать наиболее подходящие методы для конкретной задачи.\n",
    "- Интеграция с другими библиотеками  \n",
    "Scikit-learn хорошо интегрируется с другими популярными библиотеками для анализа данных, такими как **NumPy, Pandas и Matplotlib**, что упрощает анализ и визуализацию данных.\n",
    "- Открытый исходный код  \n",
    "Scikit-learn является проектом с открытым исходным кодом, что позволяет пользователям адаптировать его под свои нужды и внедрять в собственные проекты без ограничений.  \n",
    "\n",
    "\n",
    "альтернативы\n",
    "- TensorFlow и PyTorch  \n",
    "Эти библиотеки предоставляют более широкий набор инструментов для создания и обучения глубоких моделей.\n",
    "- XGBoost и LightGBM  \n",
    "Эти библиотеки специализируются на градиентном бустинге (техника машинного обучения для задач классификации и регрессии, которая строит модель предсказания в форме комбинации слабых предсказывающих моделей, обычно деревьев решений) и обладают большой производительностью в задачах классификации и регрессии."
   ]
  },
  {
   "cell_type": "code",
   "execution_count": null,
   "id": "4db97fba",
   "metadata": {},
   "outputs": [],
   "source": [
    "pip install -U scikit-learn"
   ]
  },
  {
   "cell_type": "markdown",
   "id": "934dc8aa",
   "metadata": {},
   "source": [
    "Импортируем **класс реализации линейной регрессии** из библиотеки scikit-learn и **создадим модель линейной регрессии**, которую мы будем использовать **для обучения и прогнозирования**"
   ]
  },
  {
   "cell_type": "code",
   "execution_count": null,
   "id": "0bf817d4",
   "metadata": {},
   "outputs": [],
   "source": [
    "import pandas as pd \n",
    "import numpy as np\n",
    "\n",
    "from sklearn.linear_model import LinearRegression\n",
    "from sklearn.metrics import mean_squared_error, mean_absolute_error, r2_score\n",
    "\n",
    "model = LinearRegression()\n",
    "df=pd.read_csv('Lesson_4_insurance.csv')"
   ]
  },
  {
   "cell_type": "code",
   "execution_count": null,
   "id": "8713ace0",
   "metadata": {},
   "outputs": [],
   "source": [
    "#Затем определим независимые и зависимые переменные (X и Y):\n",
    "X = df[[\"Average_Visitors\", \"Average_Order_Value\", \"Humidity\", \"Workers\"]]\n",
    "Y = df[\"Daily_Profit\"]"
   ]
  },
  {
   "cell_type": "code",
   "execution_count": null,
   "id": "2744d9cf",
   "metadata": {},
   "outputs": [],
   "source": [
    "##Определим количество столбцов и строк в Х:\n",
    "X.shape\n",
    "--> (19000, 4)"
   ]
  },
  {
   "cell_type": "markdown",
   "id": "9323a04d",
   "metadata": {},
   "source": [
    "Далее нам необходимо разделить данные на обучающую и тестовую выборки.  \n",
    "Обычно это делают в пропорции  70/30, 75/25  или 80/20. "
   ]
  },
  {
   "cell_type": "markdown",
   "id": "2acfc04d",
   "metadata": {},
   "source": [
    "Для оценки качества модели есть и более продвинутый способ — **кросс-валидация**. При его использовании мы разделяем данные несколько раз и каждый раз берем разные части данных для обучения и проверки, а полученные результаты усредняем.  \n",
    "Таким образом, разница между жестким разделением на тестовую и обучающую выборки и кросс-валидацией заключается в том, что кросс-валидация выполняет множество тестов на разных наборах данных. Кросс-валидация более надежна, но требует больше времени и вычислительных ресурсов."
   ]
  },
  {
   "cell_type": "code",
   "execution_count": null,
   "id": "200aa0d2",
   "metadata": {},
   "outputs": [],
   "source": [
    "#В нашей задаче мы ограничимся стандартным делением выборки на обучающую и тестовую в пропорции 70/30.\n",
    "test_split_index = int(X.shape[0]*0.7)\n",
    "X_train = X[:test_split_index]\n",
    "X_test = X[test_split_index:]\n",
    "Y_train = Y[:test_split_index]\n",
    "Y_test = Y[test_split_index:]"
   ]
  },
  {
   "cell_type": "code",
   "execution_count": null,
   "id": "1c5e27be",
   "metadata": {},
   "outputs": [],
   "source": [
    "#Обучим модель с использованием метода fit():\n",
    "model.fit(X_train, Y_train)\n",
    "#Рассчитаем Y для тестовой выборки:\n",
    "Y_predicted = model.predict(X_test)\n",
    "print(Y_predicted)"
   ]
  },
  {
   "cell_type": "code",
   "execution_count": null,
   "id": "5f1d3310",
   "metadata": {},
   "outputs": [],
   "source": [
    "В результате у нас получается массив с предсказанными значениями Y:\n",
    "[43587.08281938  64814.43197401  39219.26744681 ...  20968.01390973\n",
    "66198.96127899 156276.92434464]"
   ]
  },
  {
   "cell_type": "markdown",
   "id": "4f16af0b",
   "metadata": {},
   "source": [
    "Теперь, как заявлялось ранее, нам необходимо **проверить нашу модель**. Для оценки **прогноза есть свои метрики**, сравнивающие **нашу модель и реальные выборки**."
   ]
  },
  {
   "cell_type": "markdown",
   "id": "5e27d950",
   "metadata": {},
   "source": [
    "**Метрики оценки прогноза**  \n",
    "В данном уроке мы рассмотрим самые популярные метрики:   \n",
    "- **MSE**  \n",
    "- **MAE**  \n",
    "- **коэффициент детерминации R²**  "
   ]
  },
  {
   "cell_type": "markdown",
   "id": "0b1a6d1f",
   "metadata": {},
   "source": [
    "**MSE — среднеквадратичная ошибка**  \n",
    "Для проверки линейной регрессии логично использовать расстояние от реальной точки до смоделированной прямой. Но точек много: какая-то точка выше, какая-то ниже. Поэтому для оценки точности предположения используется формула среднеквадратичной ошибки (Mean Squared Error, или MSE)\n",
    "\n",
    "MSE работает следующим образом:\n",
    "- Сначала выбираются пары точек: прогнозное и фактические значения\n",
    "- Для каждой пары вычисляется разница. Она называется «ошибкой», или «остатком»\n",
    "- Далее каждая из ошибок возводится в квадрат. Это необходимо, чтобы все значения ошибок были положительными и не компенсировали друг друга, а также чтобы большие ошибки вносили больший вклад в метрику MSE\n",
    "- После того, как все ошибки возведены в квадрат, вычисляется среднее значение всех этих квадратов\n"
   ]
  },
  {
   "cell_type": "markdown",
   "id": "53bd608b",
   "metadata": {},
   "source": [
    "![](447928bb-76f7-11ee-8ad7-b24123c19216.png)\n",
    "где:  \n",
    "yᵢ — истинное значение;  \n",
    "ŷᵢ — предсказанное значение (то есть точка на прямой);  \n",
    "n — количество элементов в выборке.  "
   ]
  },
  {
   "cell_type": "markdown",
   "id": "304dbb02",
   "metadata": {},
   "source": [
    "**MAE — средняя абсолютная ошибка**  \n",
    "Для оценки линейной регрессии также можно использовать MAE (Mean Absolute Error).   \n",
    "Эта метрика измеряет среднее абсолютное отклонение предсказанных значений от фактических."
   ]
  },
  {
   "cell_type": "markdown",
   "id": "676fda6f",
   "metadata": {},
   "source": [
    "![](62bc5ebf-76f7-11ee-8ad7-b24123c19216.png)\n",
    "где:  \n",
    "- yi — значение из выборки,  \n",
    "- ŷi — предсказанное значение (то есть точка на прямой),  \n",
    "- n — количество элементов в выборке.  "
   ]
  },
  {
   "cell_type": "markdown",
   "id": "82288e82",
   "metadata": {},
   "source": [
    "**MAE, в отличие от MSE, более устойчива к выбросам в данных.** \n",
    "Если у нас есть выбросы, которые могут искажать оценку модели, MAE может быть предпочтительнее, поскольку она не учитывает квадраты ошибок, как это делает MSE, и легче интерпретируется, так как измеряется в тех же единицах, что и целевая ошибка. **MSE же применяют в тех случаях, когда важно «штрафовать» модель за большие ошибки строже, чем за маленькие.**"
   ]
  },
  {
   "cell_type": "markdown",
   "id": "f4b7797a",
   "metadata": {},
   "source": [
    "**Коэффициент детерминации R²**  \n",
    "Коэффициент детерминации R² позволяет понять, нужно ли добавить или заменить текущие признаки в модели. Чем ближе R² к 1, тем лучше значения Y объясняется значениями X. То есть если признаки (значения X) хорошо описывают наблюдаемые данные, коэффициент детерминации близок к 1. Но часто признаки могут быть фиктивными и совсем не влиять на предсказываемую величину. В этом случае коэффициент детерминации ближе к 0."
   ]
  },
  {
   "cell_type": "markdown",
   "id": "7c00c0d6",
   "metadata": {},
   "source": [
    "![](0d41af04-76f9-11ee-8ad7-b24123c19216.png)\n",
    "где:  \n",
    "y ᵢ — фактические значения объясняемой величины;  \n",
    "ŷ ᵢ — расчетное значения объясняемой величины в соответствии с моделью;  \n",
    "ӯ — среднее по выборке.  "
   ]
  },
  {
   "cell_type": "markdown",
   "id": "1b465f8e",
   "metadata": {},
   "source": [
    "Обычно **MSE используется при обучении модели, а R² — для финального контроля качества модели**. Считается, что значения R² > 0,7 являются приемлемыми, а R² > 0,9 — отличными. MSE и MAE не имеют референсных значений, но чем меньше эти показатели, тем лучше."
   ]
  },
  {
   "cell_type": "code",
   "execution_count": null,
   "id": "17a3aa3b",
   "metadata": {},
   "outputs": [],
   "source": [
    "import pandas as pd \n",
    "import numpy as np\n",
    "\n",
    "from sklearn.linear_model import LinearRegression\n",
    "from sklearn.metrics import mean_squared_error, mean_absolute_error, r2_score\n",
    "\n",
    "model = LinearRegression()"
   ]
  },
  {
   "cell_type": "code",
   "execution_count": null,
   "id": "3f145f85",
   "metadata": {},
   "outputs": [],
   "source": []
  },
  {
   "cell_type": "markdown",
   "id": "114aaeed",
   "metadata": {},
   "source": [
    "# Задачи классификации"
   ]
  },
  {
   "cell_type": "markdown",
   "id": "903d4e93",
   "metadata": {},
   "source": [
    "классификация — это задача, при которой мы стараемся отнести объекты к определенным категориям или классам. Примеров таких задач очень много:  \n",
    "- определение спама в электронной почте (два класса: спам и не спам);  \n",
    "- определение, является ли опухоль злокачественной или доброкачественной (два класса: злокачественная и доброкачественная);  \n",
    "- определение, от какой болезни страдает пациент (несколько классов: грипп, простуда, ангина и т. д.).  "
   ]
  },
  {
   "cell_type": "markdown",
   "id": "964a51bf",
   "metadata": {},
   "source": [
    "## Алгоритм\n",
    "- Сбор и предобработка данных  \n",
    "Необходимо собрать данные, которые мы будем использовать для обучения и тестирования модели. Данные должны содержать признаки **(features)** и соответствующие им метки классов **(labels)**. Также важно обработать те данные, которые у нас имеются, например, заполнить пропущенные значения.\n",
    "- Разделение данных на обучающий и тестовый набор  \n",
    "Обычно используют разбиение 70/30.\n",
    "- Выбор модели  \n",
    "***Популярными моделями являются логистическая регрессия, метод ближайших соседей, дерево решений и метод опорных векторов.***\n",
    "- Обучение модели и оценка результатов  "
   ]
  },
  {
   "cell_type": "markdown",
   "id": "6d143ede",
   "metadata": {},
   "source": [
    "# Логистическая регрессия\n",
    "это метод, который используется для решения задач бинарной (2 класса) и многоклассовой классификации.  \n",
    "- У нас есть данные о чем-либо, например, о пациентах в больнице, и мы хотим предсказать, произойдет ли с этим чем-либо некоторое событие, например, болезнь, или нет. \n",
    "- Мы собираем информацию о разных факторах, которые могут влиять на это событие (например, о возрасте, поле, симптомах и \n",
    "т. д.).\n",
    "- **Логистическая регрессия анализирует эти данные, чтобы дать нам вероятность, с которой произойдет это событие.**  \n",
    "\n"
   ]
  },
  {
   "cell_type": "markdown",
   "id": "33245b94",
   "metadata": {},
   "source": [
    "Итак, логистическая регрессия помогает ответить на вопрос: **«С какой вероятностью произойдет событие X, основываясь на данных Y?»**  \n",
    "\n",
    "Результат работы модели — числовое значение, которое находится в интервале от 0 до 1 и показывает степень уверенности модели при отнесении объекта к определенному классу.\n",
    "\n",
    "Применим **функцию сигмоиды**. Функция сигмоиды позволяет преобразовать любое вещественное число (то есть положительные, отрицательные и дробные числа) в число, лежащее в интервале от 0 до 1. Полученные значения впоследствии мы можем разделить на две группы с помощью порога. Отнесенность числа к одной из групп, будет определять класс, к которому относится объект."
   ]
  },
  {
   "cell_type": "markdown",
   "id": "b016d50d",
   "metadata": {},
   "source": [
    "![](4.png)"
   ]
  },
  {
   "cell_type": "code",
   "execution_count": 5,
   "id": "5645bbdd",
   "metadata": {},
   "outputs": [
    {
     "data": {
      "text/plain": [
       "[<matplotlib.lines.Line2D at 0x800f5d9410>]"
      ]
     },
     "execution_count": 5,
     "metadata": {},
     "output_type": "execute_result"
    },
    {
     "data": {
      "image/png": "[encoded data removed]",
      "text/plain": [
       "<Figure size 640x480 with 1 Axes>"
      ]
     },
     "metadata": {},
     "output_type": "display_data"
    }
   ],
   "source": [
    "import matplotlib.pyplot as plt\n",
    "import numpy as np\n",
    "def sigmoid(x):\n",
    "    return 1/(1+np.exp(-x))\n",
    "\n",
    "x = np.linspace(-10, 10, 100) # linspace создает numpy array длиной 100, через равные интервалы от -10 до 10.\n",
    "y = sigmoid(x)\n",
    "plt.xlabel('x')\n",
    "plt.ylabel('Функция сигмоиды')\n",
    "plt.grid()\n",
    "plt.plot(x, y)"
   ]
  },
  {
   "cell_type": "markdown",
   "id": "c61d1dd6",
   "metadata": {},
   "source": [
    "1"
   ]
  },
  {
   "cell_type": "code",
   "execution_count": null,
   "id": "626d5c53",
   "metadata": {},
   "outputs": [],
   "source": [
    "#Импортируем логистическую регрессию и метрику качества, точность:\n",
    "from sklearn.metrics import accuracy_score, precision_score, recall_score #MSE, MAE, коэффициент детерминации R²\n",
    "from sklearn.linear_model import LogisticRegression #логистическая регрессия\n",
    "log_reg = LogisticRegression()"
   ]
  },
  {
   "cell_type": "markdown",
   "id": "81bd66dc",
   "metadata": {},
   "source": [
    "(**ложно положительные**). Это ошибка **первого рода** — ситуация, когда модель неправильно классифицирует объект как принадлежащий к какому-то классу, когда на самом деле он не принадлежит этому классу."
   ]
  },
  {
   "cell_type": "markdown",
   "id": "68d33fcb",
   "metadata": {},
   "source": [
    "(**ложно отрицательные**). Это ошибка **второго рода**, также известная как **ошибка пропуска** — случай, когда модель неправильно классифицирует объект, который на самом деле принадлежит к данному классу, как не принадлежащий этому классу"
   ]
  },
  {
   "cell_type": "markdown",
   "id": "781b0b12",
   "metadata": {},
   "source": [
    "**Методы оценки качества логистической регрессии**"
   ]
  },
  {
   "cell_type": "markdown",
   "id": "dd0b8480",
   "metadata": {},
   "source": [
    "Accuracy (Точность)  \n",
    "Это метрика, которая измеряет общую точность модели в классификации. Она представляет собой отношение количества правильно классифицированных объектов ко всем объектам в выборке.\n",
    "\n",
    "**Accuracy = (TP + TN)/(TP + TN + FP + FN)**"
   ]
  },
  {
   "cell_type": "markdown",
   "id": "73e01661",
   "metadata": {},
   "source": [
    "Precision   \n",
    "Это метрика, которая измеряет точность классификации положительных примеров. Она представляет собой отношение количества правильно классифицированных положительных примеров к общему количеству всех положительных примеров, предсказанных моделью.\n",
    "\n",
    "**Precision =  TP/(TP+FP)**"
   ]
  },
  {
   "cell_type": "markdown",
   "id": "079e33e8",
   "metadata": {},
   "source": [
    "Recall  \n",
    "Это метрика, которая измеряет способность модели обнаруживать все положительные примеры. Она представляет собой отношение количества правильно классифицированных положительных примеров к общему количеству истинных положительных примеров в выборке.\n",
    "\n",
    "**Recall = TP/(TP + FN)**"
   ]
  },
  {
   "cell_type": "markdown",
   "id": "1d92eb0f",
   "metadata": {},
   "source": [
    "**Accuracy измеряет общую правильность классификации,  \n",
    "Precision и Recall оценивают точность и полноту классификации в контексте положительного класса.**"
   ]
  },
  {
   "cell_type": "markdown",
   "id": "d1e5ebbb",
   "metadata": {},
   "source": [
    "**LinearRegression**  \n",
    "Этот класс представляет собой модель простой линейной регрессии, которая пытается установить линейную зависимость между одним или несколькими признаками и целевой переменной.  \n",
    "**LogisticRegression**  \n",
    "Этот класс реализует модель логистической регрессии, которая используется для бинарной классификации (предсказание принадлежности к одной из двух категорий) и многоклассовой классификации.\n",
    "\n",
    "Accuracy_score  \n",
    "Вычисляет Accuracy — отношение количества правильно классифицированных объектов ко всем объектам в выборке.  \n",
    "Precision_score  \n",
    "Вычисляет Precision — отношение количества правильно классифицированных положительных примеров к общему количеству положительных примеров, предсказанных моделью.  \n",
    "Recall_score    \n",
    "Вычисляет Recall — отношение количества правильно классифицированных положительных примеров к общему количеству истинных положительных примеров в выборке.  \n",
    "Mean_squared_error  \n",
    "Вычисляет среднеквадратичную ошибку между фактическими и предсказанными значениями.  \n",
    "Mean_absolute_error  \n",
    "Рассчитывает среднюю абсолютную ошибку между фактическими и предсказанными значениями.  \n",
    "R2_score  \n",
    "Оценивает долю объясненной дисперсии в данных, которую модель смогла объяснить.  "
   ]
  },
  {
   "cell_type": "code",
   "execution_count": null,
   "id": "db5e7639",
   "metadata": {},
   "outputs": [],
   "source": []
  },
  {
   "cell_type": "markdown",
   "id": "988edc5c",
   "metadata": {},
   "source": [
    "# 6.1 \n",
    "## Task_1"
   ]
  },
  {
   "cell_type": "code",
   "execution_count": 11,
   "id": "d807b130",
   "metadata": {},
   "outputs": [],
   "source": [
    "import pandas as pd \n",
    "import numpy as np\n",
    "\n",
    "from sklearn.linear_model import LinearRegression\n",
    "from sklearn.metrics import mean_squared_error, mean_absolute_error, r2_score\n",
    "\n",
    "df=pd.read_csv('Lesson_4_insurance.csv')\n",
    "\n",
    "model = LinearRegression()\n",
    "X=df[['age', 'sex' ,'bmi' ,'children', 'smoker' , 'Unknown', 'northeast', 'northwest', 'southeast', 'southwest']]\n",
    "Y=df['charges']"
   ]
  },
  {
   "cell_type": "code",
   "execution_count": 12,
   "id": "490ddcab",
   "metadata": {},
   "outputs": [
    {
     "data": {
      "text/plain": [
       "(1386, 10)"
      ]
     },
     "execution_count": 12,
     "metadata": {},
     "output_type": "execute_result"
    }
   ],
   "source": [
    "X.shape"
   ]
  },
  {
   "cell_type": "code",
   "execution_count": 13,
   "id": "2094f3dc",
   "metadata": {},
   "outputs": [],
   "source": [
    "test_split_index = int(X.shape[0]*0.7)#делим в пропорции 70/30\n",
    "\n",
    "X_train = X[:test_split_index]\n",
    "X_test = X[test_split_index:]\n",
    "Y_train = Y[:test_split_index]\n",
    "Y_test = Y[test_split_index:]"
   ]
  },
  {
   "cell_type": "code",
   "execution_count": 14,
   "id": "76368278",
   "metadata": {},
   "outputs": [
    {
     "name": "stdout",
     "output_type": "stream",
     "text": [
      "[ 26807.42544248  35188.6986915   23010.64975565  10364.40893198\n",
      "    362.5947081   10091.0157561    8159.23043285   5376.38416853\n",
      "  12850.32523709   6646.776272     2354.18366699  25723.76965348\n",
      "   5545.94204927  17303.48015189  32296.22176574 -11579.84472778\n",
      "   7499.40309124   4257.6837886   10054.48267817  26737.61097208\n",
      "  13077.1866428   11384.45070382   5108.07667122   6822.59461225\n",
      "   5841.78505791  32097.41671589   2443.80872843   9557.02209654\n",
      "  22189.12641592  10386.90169722  13961.92528265  22847.15574934\n",
      "  32998.86937843   7170.70992      5656.96597434  11882.73448679\n",
      "  29639.55523071  12271.4317792   12062.70613605   9892.86662858\n",
      "  14609.014755    13557.26524893  28842.05717627  13411.14035479\n",
      "  13741.95542458  20896.61944092  11803.50289224   8376.33766628\n",
      "  28638.72484385   5847.39394068  12182.74490758  14268.67352384\n",
      "   2867.44313231  10418.38232275   7898.00933465  15529.03801898\n",
      "  12628.60190595  13315.00137755  37125.13190936  15748.54485983\n",
      "   9831.11185292  11785.29771541  28580.3863046    6360.88016003\n",
      "  12793.47811944   6954.07646579   5267.20418012   6310.442914\n",
      "  36681.27607139   4916.22735317   4426.67619012  15031.81693263\n",
      "  26255.89268347  26054.39772363  12110.12890378  19081.77367801\n",
      "  32277.64304501   4984.53994762   7262.99772824   8349.69093384\n",
      "    608.13373028   5278.81966094  14577.89767866  32095.92619385\n",
      "  10238.31411694   9813.21443438   8429.93069785  13161.04022766\n",
      "  12610.46379813  31474.16229176   3454.87535844  12899.84712551\n",
      "  33816.66274221  12048.39587077  13519.03055838  13096.31981283\n",
      "  27834.65496515   1957.69282478   1181.21573906  35656.94944335\n",
      "   8185.84102343   5541.32964439   4185.31484003   4202.52495465\n",
      "  34366.84724603  29252.03677159  32041.02027128  36857.73422583\n",
      "   6141.5955346    5743.03278419  12435.73326222  17687.98742803\n",
      "  17168.63360445  12365.57850493   3858.73091633  14479.05410245\n",
      "   6147.71009775  27072.48961572  15649.44987814   4053.50129244\n",
      "  12065.69103613  13374.49305653  13062.88118221   6762.42968409\n",
      "  12846.65010199   8557.4919428   35367.05752843  12840.21823605\n",
      "  13783.91574128  30159.60907595  10610.74079373  29857.37828022\n",
      "   8815.74574054  11339.72674892  26900.88730326  28512.84597108\n",
      "  13262.53186168  12114.38281235  28360.71118962  11096.53310448\n",
      "  13275.79393099  17612.12675122   8694.97104763  20608.05636331\n",
      "   8527.94587848  12386.62485351  11341.21075312   6434.02740129\n",
      "  14634.35872678  15117.76920422   6561.62640495   6788.08931179\n",
      "  23683.6425698    5835.61677514 -10797.0700097   13379.41892396\n",
      "   8119.18755934   3994.08475754   5377.05227278  13999.87037505\n",
      "   8131.5612738   22626.73846305   2078.52350978   7835.39813736\n",
      "   5818.62384957  27194.47380116  27512.47553385   8773.50652141\n",
      "   2649.11569014  11456.7480713    6789.37819704  10020.61124021\n",
      "   9142.2267255    9989.64211103  34088.42789718   4871.93296079\n",
      "   3888.17758073   7677.58855187  33139.55988432   4081.3330434\n",
      "   2621.9244371    8822.42722859  16799.07162962   4209.83263007\n",
      "   9832.14273905   9116.7914068   25387.43837282  16516.40739711\n",
      "  30384.84480601   7145.13858786  17978.36523176   3201.63016197\n",
      "  36891.57518599  13351.55850062   9689.98317006   8729.72635413\n",
      "  24800.0742313   15642.96305882  15904.7741881    3549.89934887\n",
      "   6542.37549764   4737.62374463  12043.41486804  12060.1656189\n",
      "   4576.84667033  29071.14948773   6647.39082312  10822.70831527\n",
      "  10493.71539507   4355.8931886   13358.80748402  11751.13331423\n",
      "    938.57902566   9165.84497465  34183.88676624   4488.67397801\n",
      "   7079.9206624   13020.43321731  13392.23239756   2930.25596639\n",
      "   3727.01487088  11947.36531227   5283.49559254  16200.39146436\n",
      "  11667.02419575  12143.21621336  -6620.75862704   5668.74313988\n",
      "  32112.70408699  37456.07195663  14267.98216152  30518.38601635\n",
      "  11102.39082581   7010.5193803    5757.90737746  26843.26072544\n",
      "  13466.70420545  10773.74507452  30692.57863513   6787.44351981\n",
      "  35799.75683585   4847.25142917   6215.65871327   4712.3771611\n",
      "   6981.98635992   3667.46742495   4700.99851043  -8660.61487784\n",
      "  10866.60328874  29644.43069778  10815.21144685  15906.83325695\n",
      "  13664.2430465    6211.99102558  10026.92326755  10594.53955651\n",
      "  14811.2774167   30101.19926932  14417.6853205   11866.67577479\n",
      "  15999.29344214   9580.02110408  22315.76056724  13857.90443353\n",
      "  11412.03395836  12941.68985682  31298.92831323  36100.40051281\n",
      "  16240.9847306  -15495.13664902   2469.78965563   6122.15036211\n",
      "   4146.6174725   30028.12185581  14729.50830588   6975.48259494\n",
      "   1796.90573615  35252.14990014   4512.4780328    3522.37186129\n",
      "  11745.00361229  11207.71368791   9155.4905542    8959.26507399\n",
      "   6832.48093726   7425.82665167  31796.89064479  12282.72276149\n",
      "  16928.24207926  33564.10471317  10402.44559826   6632.47774274\n",
      "  12403.48247356  10109.69044752  13197.236151    16109.26868515\n",
      "   8531.19996456  23411.73152453   4497.24166838  12027.18400679\n",
      " -10585.96050776   8691.78927105  15831.31772359   6604.08425276\n",
      "  12572.32300093  11486.20544585   3313.56231864  26029.83729436\n",
      " -10797.0700097    8860.3634121   24475.48041156   1986.08353555\n",
      "  31157.41014017  23994.87379653  22796.79750787  14389.72737083\n",
      "  30111.89456252   9830.65783529  11739.32361403  13733.19539448\n",
      "  12749.48238012   3206.51212641   5576.24002708   5237.27819056\n",
      "  28400.91160058  24819.82542846 -10363.56859217  24395.08548067\n",
      "  10821.18968467  13911.53450653   2021.12124095  16478.46145094\n",
      "  10523.30199731   6658.53950229  14622.74324596  11250.66789511\n",
      "   8183.92098937   3310.43452915  10851.24697321  24961.00924661\n",
      "  16030.37088013   5765.9962562    2327.44901898  17151.43906257\n",
      "   1916.45549942   9046.30966621   9598.84432852  11315.04431774\n",
      "   7598.40879731   6204.48648808  26493.89831833  26051.61593134\n",
      "   6330.19947776   5643.68876624  13280.30817787  14659.63958048\n",
      "   9101.7292485    4456.68957567  13176.89466015  28620.4682764\n",
      "  33993.17812856   8904.99752599  35819.56452232   7285.85652441\n",
      "   5738.74738309  11387.09619125   3858.73091633  10711.73140016\n",
      "   8500.28509039  27002.81032547   5731.10620048  11139.62539641\n",
      "   4910.56140619  24720.55953597  10943.61769112  14513.84900105\n",
      "  16011.25830921   9396.44650714   8817.57267434  33396.07586086\n",
      "   4136.73315249   4113.14628675   2373.27869015  24798.55259982\n",
      "  12382.75549904  36440.36104452  17079.55834806  28456.46024268\n",
      "   7960.99249019  32739.51647431   5365.91072307  14838.16393885\n",
      "   8432.71468349   5565.36066533  12035.51357481   9213.19349809\n",
      "  34570.72369548  29790.18638289   8031.69346579  12858.42074969\n",
      "  11918.41115262   7741.9076519    4130.04263952  16678.72031558\n",
      "   8638.79485968   7903.44677003  15188.66701191  33261.64850344\n",
      "   9504.33614535  14441.71007179  30172.47528911   4329.08927822\n",
      "  33540.44743382   6805.02561663  13033.87005812  13817.73407548]\n"
     ]
    }
   ],
   "source": [
    "#Обучим модель с использованием метода fit():\n",
    "model.fit(X_train, Y_train)\n",
    "#Рассчитаем Y для тестовой выборки:\n",
    "Y_predicted = model.predict(X_test)\n",
    "print(Y_predicted)"
   ]
  },
  {
   "cell_type": "code",
   "execution_count": 15,
   "id": "7a0d95a9",
   "metadata": {},
   "outputs": [
    {
     "name": "stdout",
     "output_type": "stream",
     "text": [
      "59939558.37594119\n",
      "5300.420128837568\n",
      "0.656321282950848\n"
     ]
    }
   ],
   "source": [
    "print(mean_squared_error(Y_test, Y_predicted))\n",
    "print(mean_absolute_error(Y_test, Y_predicted))\n",
    "print(r2_score(Y_test, Y_predicted))"
   ]
  },
  {
   "cell_type": "markdown",
   "id": "dea1a0f1",
   "metadata": {},
   "source": [
    "## Task_2"
   ]
  },
  {
   "cell_type": "code",
   "execution_count": 17,
   "id": "5b524f1c",
   "metadata": {},
   "outputs": [
    {
     "name": "stdout",
     "output_type": "stream",
     "text": [
      "[0 0 0 0 1 0 0 0 0 0 0 0 0 0 0 0 0 0 0 0 0 0 0 0 1 0 0 0 0 0 0 0 0 0 0 1 0\n",
      " 0 0 1 0 0 0 0 0 0 0 0 0 0]\n"
     ]
    }
   ],
   "source": [
    "import pandas as pd \n",
    "import numpy as np\n",
    "\n",
    "from sklearn.metrics import accuracy_score, precision_score, recall_score #MSE, MAE, коэффициент детерминации R²\n",
    "from sklearn.linear_model import LogisticRegression #логистическая регрессия\n",
    "\n",
    "df=pd.read_csv('credit_data.csv')\n",
    "\n",
    "model = LogisticRegression()\n",
    "X=df[['Возраст','Доход','Кредитный рейтинг','Сумма кредита','Срок кредита']]\n",
    "Y=df['Дефолт']\n",
    "\n",
    "test_split_index = int(X.shape[0]*0.75)#делим в пропорции 70/30\n",
    "\n",
    "X_train = X[:test_split_index]\n",
    "X_test = X[test_split_index:]\n",
    "Y_train = Y[:test_split_index]\n",
    "Y_test = Y[test_split_index:]\n",
    "\n",
    "#Обучим модель с использованием метода fit():\n",
    "model.fit(X_train, Y_train)\n",
    "#Рассчитаем Y для тестовой выборки:\n",
    "Y_predicted = model.predict(X_test)\n",
    "print(Y_predicted)"
   ]
  },
  {
   "cell_type": "code",
   "execution_count": 18,
   "id": "9e83393c",
   "metadata": {},
   "outputs": [
    {
     "name": "stdout",
     "output_type": "stream",
     "text": [
      "0.74\n",
      "0.5\n",
      "0.15384615384615385\n"
     ]
    }
   ],
   "source": [
    "print(accuracy_score(Y_test, Y_predicted))\n",
    "print(precision_score(Y_test, Y_predicted)) #верные положительные значения от модели\n",
    "print(recall_score(Y_test, Y_predicted)) #верные положительные значения от истенных"
   ]
  }
 ],
 "metadata": {
  "kernelspec": {
   "display_name": "Python 3 (ipykernel)",
   "language": "python",
   "name": "python3"
  },
  "language_info": {
   "codemirror_mode": {
    "name": "ipython",
    "version": 3
   },
   "file_extension": ".py",
   "mimetype": "text/x-python",
   "name": "python",
   "nbconvert_exporter": "python",
   "pygments_lexer": "ipython3",
   "version": "3.11.4"
  }
 },
 "nbformat": 4,
 "nbformat_minor": 5
}
