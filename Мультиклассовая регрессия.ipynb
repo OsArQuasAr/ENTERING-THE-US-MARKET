{
 "cells": [
  {
   "cell_type": "code",
   "execution_count": 1,
   "id": "284d3d75",
   "metadata": {},
   "outputs": [],
   "source": [
    "import pandas as pd \n",
    "import numpy as np"
   ]
  },
  {
   "cell_type": "code",
   "execution_count": 8,
   "id": "5a87ac23",
   "metadata": {},
   "outputs": [],
   "source": [
    "\n",
    "# помимо стандартных библиотек мы также импортируем библиотеку warnings\n",
    "# она позволит скрыть предупреждения об ошибках\n",
    "import numpy as np\n",
    "import pandas as pd\n",
    "import matplotlib.pyplot as plt\n",
    "import seaborn as sns\n",
    "import warnings\n",
    " \n",
    "# кроме того, импортируем датасеты библиотеки sklearn\n",
    "from sklearn import datasets\n",
    "# а также функции для расчета метрики accuracy и построения матрицы ошибок\n",
    "from sklearn.metrics import accuracy_score, confusion_matrix\n",
    " \n",
    "# построенные нами модели мы будем сравнивать с результатом\n",
    "# класса LogisticRegression библиотеки sklearn\n",
    "from sklearn.linear_model import LogisticRegression\n",
    " \n",
    "# среди прочего, мы построим модели полиномиальной логистической регрессии\n",
    "from sklearn.preprocessing import PolynomialFeatures"
   ]
  },
  {
   "cell_type": "code",
   "execution_count": 2,
   "id": "0f30d0b1",
   "metadata": {},
   "outputs": [
    {
     "data": {
      "text/html": [
       "<div>\n",
       "<style scoped>\n",
       "    .dataframe tbody tr th:only-of-type {\n",
       "        vertical-align: middle;\n",
       "    }\n",
       "\n",
       "    .dataframe tbody tr th {\n",
       "        vertical-align: top;\n",
       "    }\n",
       "\n",
       "    .dataframe thead th {\n",
       "        text-align: right;\n",
       "    }\n",
       "</style>\n",
       "<table border=\"1\" class=\"dataframe\">\n",
       "  <thead>\n",
       "    <tr style=\"text-align: right;\">\n",
       "      <th></th>\n",
       "      <th>flavanoids</th>\n",
       "      <th>proline</th>\n",
       "      <th>target</th>\n",
       "    </tr>\n",
       "  </thead>\n",
       "  <tbody>\n",
       "    <tr>\n",
       "      <th>0</th>\n",
       "      <td>1</td>\n",
       "      <td>10</td>\n",
       "      <td>0</td>\n",
       "    </tr>\n",
       "    <tr>\n",
       "      <th>1</th>\n",
       "      <td>2</td>\n",
       "      <td>20</td>\n",
       "      <td>1</td>\n",
       "    </tr>\n",
       "    <tr>\n",
       "      <th>2</th>\n",
       "      <td>3</td>\n",
       "      <td>30</td>\n",
       "      <td>2</td>\n",
       "    </tr>\n",
       "    <tr>\n",
       "      <th>3</th>\n",
       "      <td>2</td>\n",
       "      <td>20</td>\n",
       "      <td>2</td>\n",
       "    </tr>\n",
       "    <tr>\n",
       "      <th>4</th>\n",
       "      <td>3</td>\n",
       "      <td>12</td>\n",
       "      <td>0</td>\n",
       "    </tr>\n",
       "  </tbody>\n",
       "</table>\n",
       "</div>"
      ],
      "text/plain": [
       "   flavanoids  proline  target\n",
       "0           1       10       0\n",
       "1           2       20       1\n",
       "2           3       30       2\n",
       "3           2       20       2\n",
       "4           3       12       0"
      ]
     },
     "execution_count": 2,
     "metadata": {},
     "output_type": "execute_result"
    }
   ],
   "source": [
    "df = pd.DataFrame({'flavanoids': [1,2,3,2,3], 'proline':[10,20,30,20,12], 'target':[0,1,2,2,0]})\n",
    "df.head()"
   ]
  },
  {
   "cell_type": "code",
   "execution_count": 3,
   "id": "c9fe1505",
   "metadata": {},
   "outputs": [
    {
     "data": {
      "text/plain": [
       "0    2\n",
       "2    2\n",
       "1    1\n",
       "Name: target, dtype: int64"
      ]
     },
     "execution_count": 3,
     "metadata": {},
     "output_type": "execute_result"
    }
   ],
   "source": [
    "df.target.value_counts()"
   ]
  },
  {
   "cell_type": "code",
   "execution_count": 4,
   "id": "df31935d",
   "metadata": {},
   "outputs": [],
   "source": [
    "def correlation_ratio(numerical, categorical):\n",
    " \n",
    "    values = np.array(numerical)\n",
    "    ss_total = np.sum((values.mean() - values) ** 2)\n",
    " \n",
    "    cats = np.unique(categorical, return_inverse = True)[1]\n",
    "    ss_betweengroups = 0\n",
    " \n",
    "    for c in np.unique(cats):\n",
    " \n",
    "        group = values[np.argwhere(cats == c).flatten()]\n",
    "        ss_betweengroups += len(group) * (group.mean() - values.mean()) ** 2\n",
    " \n",
    "    return np.sqrt(ss_betweengroups/ss_total)"
   ]
  },
  {
   "cell_type": "code",
   "execution_count": 5,
   "id": "ab39ca13",
   "metadata": {},
   "outputs": [
    {
     "data": {
      "text/html": [
       "<style type=\"text/css\">\n",
       "#T_9d050_row0_col1 {\n",
       "  background-color: #fff7fb;\n",
       "  color: #000000;\n",
       "}\n",
       "#T_9d050_row1_col1 {\n",
       "  background-color: #023858;\n",
       "  color: #f1f1f1;\n",
       "}\n",
       "</style>\n",
       "<table id=\"T_9d050\">\n",
       "  <thead>\n",
       "    <tr>\n",
       "      <th class=\"blank level0\" >&nbsp;</th>\n",
       "      <th id=\"T_9d050_level0_col0\" class=\"col_heading level0 col0\" >column</th>\n",
       "      <th id=\"T_9d050_level0_col1\" class=\"col_heading level0 col1\" >correlation</th>\n",
       "    </tr>\n",
       "  </thead>\n",
       "  <tbody>\n",
       "    <tr>\n",
       "      <th id=\"T_9d050_level0_row0\" class=\"row_heading level0 row0\" >0</th>\n",
       "      <td id=\"T_9d050_row0_col0\" class=\"data row0 col0\" >flavanoids</td>\n",
       "      <td id=\"T_9d050_row0_col1\" class=\"data row0 col1\" >0.327327</td>\n",
       "    </tr>\n",
       "    <tr>\n",
       "      <th id=\"T_9d050_level0_row1\" class=\"row_heading level0 row1\" >1</th>\n",
       "      <td id=\"T_9d050_row1_col0\" class=\"data row1 col0\" >proline</td>\n",
       "      <td id=\"T_9d050_row1_col1\" class=\"data row1 col1\" >0.890502</td>\n",
       "    </tr>\n",
       "  </tbody>\n",
       "</table>\n"
      ],
      "text/plain": [
       "<pandas.io.formats.style.Styler at 0x19d9ab26850>"
      ]
     },
     "execution_count": 5,
     "metadata": {},
     "output_type": "execute_result"
    }
   ],
   "source": [
    "# создадим два списка, один для названий признаков, второй для значений корреляционного отношения\n",
    "columns, correlations = [], []\n",
    " \n",
    "# пройдемся по всем столбцам датафрейма кроме целевой переменной\n",
    "for col in df.drop('target', axis = 1).columns:\n",
    "  # поместим название признака в список columns\n",
    "    columns.append(col)\n",
    "  # рассчитаем взаимосвязь этого признака с целевой переменной\n",
    "  # и поместим результат в список значений корреляционного отношения\n",
    "    correlations.append(correlation_ratio(df[col], df['target']))\n",
    "\n",
    "# создадим датафрейм на основе заполненных списков\n",
    "# и применим градиентную цветовую схему\n",
    "pd.DataFrame({'column': columns, 'correlation': correlations}).style.background_gradient()\n"
   ]
  },
  {
   "cell_type": "code",
   "execution_count": 6,
   "id": "ffb3399a",
   "metadata": {},
   "outputs": [
    {
     "data": {
      "text/html": [
       "<div>\n",
       "<style scoped>\n",
       "    .dataframe tbody tr th:only-of-type {\n",
       "        vertical-align: middle;\n",
       "    }\n",
       "\n",
       "    .dataframe tbody tr th {\n",
       "        vertical-align: top;\n",
       "    }\n",
       "\n",
       "    .dataframe thead th {\n",
       "        text-align: right;\n",
       "    }\n",
       "</style>\n",
       "<table border=\"1\" class=\"dataframe\">\n",
       "  <thead>\n",
       "    <tr style=\"text-align: right;\">\n",
       "      <th></th>\n",
       "      <th>flavanoids</th>\n",
       "      <th>proline</th>\n",
       "      <th>target</th>\n",
       "    </tr>\n",
       "  </thead>\n",
       "  <tbody>\n",
       "    <tr>\n",
       "      <th>0</th>\n",
       "      <td>1</td>\n",
       "      <td>10</td>\n",
       "      <td>0</td>\n",
       "    </tr>\n",
       "    <tr>\n",
       "      <th>1</th>\n",
       "      <td>2</td>\n",
       "      <td>20</td>\n",
       "      <td>1</td>\n",
       "    </tr>\n",
       "    <tr>\n",
       "      <th>2</th>\n",
       "      <td>3</td>\n",
       "      <td>30</td>\n",
       "      <td>2</td>\n",
       "    </tr>\n",
       "  </tbody>\n",
       "</table>\n",
       "</div>"
      ],
      "text/plain": [
       "   flavanoids  proline  target\n",
       "0           1       10       0\n",
       "1           2       20       1\n",
       "2           3       30       2"
      ]
     },
     "execution_count": 6,
     "metadata": {},
     "output_type": "execute_result"
    }
   ],
   "source": [
    "df = df[['flavanoids', 'proline', 'target']].copy()\n",
    "df.head(3)"
   ]
  },
  {
   "cell_type": "code",
   "execution_count": 9,
   "id": "e5959924",
   "metadata": {},
   "outputs": [
    {
     "data": {
      "image/png": "[encoded data removed]",
      "text/plain": [
       "<Figure size 1000x800 with 1 Axes>"
      ]
     },
     "metadata": {},
     "output_type": "display_data"
    }
   ],
   "source": [
    "# зададим размер графика\n",
    "plt.figure(figsize = (10, 8))\n",
    "# построим точечную диаграмму с двумя признаками, разделяющей категориальной переменной будет класс вина\n",
    "sns.scatterplot(x = df.flavanoids, y = df.proline, hue = df.target, palette = 'bright', s = 100)\n",
    "# добавим легенду\n",
    "plt.legend(loc = 'upper left', prop = {'size': 15})\n",
    "plt.show()"
   ]
  },
  {
   "cell_type": "code",
   "execution_count": 10,
   "id": "4a6b66ae",
   "metadata": {},
   "outputs": [
    {
     "data": {
      "text/plain": [
       "array([0, 1, 2], dtype=int64)"
      ]
     },
     "execution_count": 10,
     "metadata": {},
     "output_type": "execute_result"
    }
   ],
   "source": [
    "# поместим признаки и данные в соответствующие переменные\n",
    "x1, x2 = df.columns[0], df.columns[1]\n",
    " \n",
    "target = df.target.unique()\n",
    "target"
   ]
  },
  {
   "cell_type": "code",
   "execution_count": 11,
   "id": "354c2806",
   "metadata": {},
   "outputs": [
    {
     "data": {
      "image/png": "[encoded data removed]",
      "text/plain": [
       "<Figure size 1600x400 with 3 Axes>"
      ]
     },
     "metadata": {},
     "output_type": "display_data"
    }
   ],
   "source": [
    "# сделаем копии датафреймов\n",
    "ovr_0, ovr_1, ovr_2 = df.copy(), df.copy(), df.copy()\n",
    " \n",
    "# в каждом из них сделаем целевым классом 0-й, 1-й или 2-й классы\n",
    "# например, в ovr_0 первым классом будет класс 0, а классы 1 и 2 - нулевым\n",
    "ovr_0['target'] = np.where(df['target'] == target[0], 1, 0)\n",
    "ovr_1['target'] = np.where(df['target'] == target[1], 1, 0)\n",
    "ovr_2['target'] = np.where(df['target'] == target[2], 1, 0)\n",
    " \n",
    "# выведем разделение на классы на графике\n",
    "fig, (ax1, ax2, ax3) = plt.subplots(1, 3, \n",
    "                                    figsize = (16, 4),\n",
    "                                    gridspec_kw = {'wspace': 0.2, 'hspace': 0.08})\n",
    " \n",
    "sns.scatterplot(data = ovr_0, x = x1, y = x2, hue = 'target', s = 50, ax = ax1)\n",
    "ax1.set_title('Прогнозирование класса 0', fontsize = 14)\n",
    " \n",
    "sns.scatterplot(data = ovr_1, x = x1, y = x2, hue = 'target', s = 50, ax = ax2)\n",
    "ax2.set_title('Прогнозирование класса 1', fontsize = 14)\n",
    " \n",
    "sns.scatterplot(data = ovr_2, x = x1, y = x2, hue = 'target', s = 50, ax = ax3)\n",
    "ax3.set_title('Прогнозирование класса 2', fontsize = 14)\n",
    " \n",
    "plt.show()\n"
   ]
  },
  {
   "cell_type": "code",
   "execution_count": 15,
   "id": "715bdfdf",
   "metadata": {},
   "outputs": [],
   "source": [
    "class LogReg():\n",
    " \n",
    "  # в методе .__init__() объявим переменные для весов и уровня ошибки\n",
    "    def __init__(self):\n",
    "        self.thetas = None\n",
    "        self.loss_history = []\n",
    " \n",
    "  # метод .fit() необходим для обучения модели\n",
    "  # этому методу мы передадим признаки и целевую переменную\n",
    "  # кроме того, мы зададим значения по умолчанию\n",
    "  # для количества итераций и скорости обучения\n",
    "    def fit(self, x, y, iter = 20000, learning_rate = 0.001):\n",
    " \n",
    "    # метод создаст \"правильные\" копии датафрейма\n",
    "        x, y = x.copy(), y.copy()\n",
    " \n",
    "    # добавит столбец из единиц\n",
    "        self.add_ones(x)\n",
    " \n",
    "    # инициализирует веса и запишет в переменную n количество наблюдений\n",
    "        thetas, n = np.zeros(x.shape[1]), x.shape[0]\n",
    " \n",
    "    # создадим список для записи уровня ошибки\n",
    "        loss_history = []\n",
    " \n",
    "    # в цикле равном количеству итераций\n",
    "        for i in range(iter):\n",
    "      # метод сделает прогноз с текущими весами\n",
    "            y_pred = self.h(x, thetas)\n",
    "      # найдет и запишет уровень ошибки\n",
    "            loss_history.append(self.objective(y, y_pred))\n",
    "      # рассчитает градиент\n",
    "            grad = self.gradient(x, y, y_pred, n)\n",
    "      # и обновит веса\n",
    "            thetas -= learning_rate * grad\n",
    " \n",
    "      # метод выдаст веса и список с историей ошибок\n",
    "            self.thetas = thetas\n",
    "            self.loss_history = loss_history\n",
    " \n",
    "  # метод .predict() делает прогноз с помощью обученной модели\n",
    "    def predict(self, x):\n",
    " \n",
    "    # метод создаст \"правильную\" копию модели\n",
    "        x = x.copy()\n",
    "    # добавит столбец из единиц\n",
    "        self.add_ones(x)\n",
    "    # рассчитает значения линейной функции\n",
    "        z = np.dot(x, self.thetas)\n",
    "    # передаст эти значения в сигмоиду\n",
    "        probs = np.array([self.stable_sigmoid(value) for value in z])\n",
    "    # выдаст принадлежность к определенному классу и соответствующую вероятность\n",
    "        return np.where(probs >= 0.5, 1, 0), probs\n",
    " \n",
    "  # ниже приводятся служебные методы, смысл которых был разобран ранее\n",
    "    def add_ones(self, x):\n",
    "        return x.insert(0,'x0', np.ones(x.shape[0]))\n",
    " \n",
    "    def h(self, x, thetas):\n",
    "        z = np.dot(x, thetas)\n",
    "        return np.array([self.stable_sigmoid(value) for value in z])\n",
    " \n",
    "    def objective(self, y, y_pred):\n",
    "        y_one_loss = y * np.log(y_pred + 1e-9)\n",
    "        y_zero_loss = (1 - y) * np.log(1 - y_pred + 1e-9)\n",
    "        return -np.mean(y_zero_loss + y_one_loss)\n",
    " \n",
    "    def gradient(self, x, y, y_pred, n):\n",
    "        return np.dot(x.T, (y_pred - y)) / n\n",
    " \n",
    "    def stable_sigmoid(self, z):\n",
    "        if z >= 0:\n",
    "            return 1 / (1 + np.exp(-z))\n",
    "        else:\n",
    "            return np.exp(z) / (np.exp(z) + 1)"
   ]
  },
  {
   "cell_type": "code",
   "execution_count": 16,
   "id": "573d9dbc",
   "metadata": {},
   "outputs": [],
   "source": [
    "models = []\n",
    " \n",
    "# поочередно обучим каждую из моделей\n",
    "for ova_n in [ovr_0, ovr_1, ovr_2]:\n",
    "    X = ova_n[['flavanoids', 'proline']]\n",
    "    y = ova_n['target']\n",
    " \n",
    "    model = LogReg()\n",
    "    model.fit(X, y)\n",
    " \n",
    "  # каждую обученную модель поместим в список\n",
    "    models.append(model)"
   ]
  },
  {
   "cell_type": "code",
   "execution_count": 18,
   "id": "cda9158f",
   "metadata": {},
   "outputs": [],
   "source": [
    "# вновь перенесем данные из исходного датафрейма\n",
    "X = df[['flavanoids', 'proline']]\n",
    "y = df['target']\n",
    " \n",
    "# в список probs будем записывать результат каждой модели\n",
    "# для каждого наблюдения\n",
    "probs = []\n",
    " \n",
    "for model in models:\n",
    "    am, prob = model.predict(X)\n",
    "    probs.append(prob)"
   ]
  },
  {
   "cell_type": "code",
   "execution_count": 19,
   "id": "6dfee00e",
   "metadata": {},
   "outputs": [
    {
     "data": {
      "text/plain": [
       "(0.4738854636402894, 0.3088120530641252, 0.3288669040404029)"
      ]
     },
     "execution_count": 19,
     "metadata": {},
     "output_type": "execute_result"
    }
   ],
   "source": [
    "\n",
    "# очевидно, для каждого наблюдения у нас будет три вероятности\n",
    "# принадлежности к целевому классу\n",
    "probs[0][0], probs[1][0], probs[2][0]"
   ]
  },
  {
   "cell_type": "code",
   "execution_count": null,
   "id": "10e8de83",
   "metadata": {},
   "outputs": [],
   "source": []
  }
 ],
 "metadata": {
  "kernelspec": {
   "display_name": "Python 3 (ipykernel)",
   "language": "python",
   "name": "python3"
  },
  "language_info": {
   "codemirror_mode": {
    "name": "ipython",
    "version": 3
   },
   "file_extension": ".py",
   "mimetype": "text/x-python",
   "name": "python",
   "nbconvert_exporter": "python",
   "pygments_lexer": "ipython3",
   "version": "3.11.4"
  }
 },
 "nbformat": 4,
 "nbformat_minor": 5
}
